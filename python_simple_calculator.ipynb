{
  "nbformat": 4,
  "nbformat_minor": 0,
  "metadata": {
    "colab": {
      "provenance": []
    },
    "kernelspec": {
      "name": "python3",
      "display_name": "Python 3"
    },
    "language_info": {
      "name": "python"
    }
  },
  "cells": [
    {
      "cell_type": "markdown",
      "source": [],
      "metadata": {
        "id": "acSGesPRTOZe"
      }
    },
    {
      "cell_type": "markdown",
      "source": [
        "#simple calculator"
      ],
      "metadata": {
        "id": "bjXXj5ZCTQs9"
      }
    },
    {
      "cell_type": "code",
      "execution_count": 7,
      "metadata": {
        "colab": {
          "base_uri": "https://localhost:8080/"
        },
        "id": "V1fSA7ToTDfL",
        "outputId": "4b5e73bb-b0f5-4325-9893-3561261be735"
      },
      "outputs": [
        {
          "name": "stdout",
          "output_type": "stream",
          "text": [
            "Simple Calculator\n",
            "Choose operation\n",
            "1.Add\n",
            "2.Subtract\n",
            "3.Multiply\n",
            "4.Divide\n",
            "Enter  choice (1/2/3/4):4\n",
            "Enter first number:28\n",
            "Enter second number:8\n",
            "The result is3.5\n",
            "Do you want to perform another calculation? (yes/no):yes\n",
            "Enter  choice (1/2/3/4):3\n",
            "Enter first number:7\n",
            "Enter second number:77\n",
            "The result is539.0\n",
            "Do you want to perform another calculation? (yes/no):no\n"
          ]
        }
      ],
      "source": [
        "def add(x,y):\n",
        "  return x+y\n",
        "def subtract(x,y):\n",
        "  return x-y\n",
        "def multiply(x,y):\n",
        "  return x*y\n",
        "def divide(x,y):\n",
        "  if y!=0:\n",
        "     return x/y\n",
        "  else:\n",
        "    return \"Error! Division by zero.\"\n",
        "def calculator():\n",
        "    print(\"Simple Calculator\")\n",
        "    print(\"Choose operation\")\n",
        "    print(\"1.Add\")\n",
        "    print(\"2.Subtract\")\n",
        "    print(\"3.Multiply\")\n",
        "    print(\"4.Divide\")\n",
        "    while True:\n",
        "      choice=input(\"Enter  choice (1/2/3/4):\")\n",
        "      if choice in ['1','2','3','4']:\n",
        "        num1=float(input(\"Enter first number:\"))\n",
        "        num2=float(input(\"Enter second number:\"))\n",
        "        if choice =='1':\n",
        "           print(f\"The result is:{add(num1,num2)}\")\n",
        "        elif choice =='2':\n",
        "            print(f\"The result is:{subtract(num1,num2)}\")\n",
        "        elif choice =='3':\n",
        "            print(f\"The result is{multiply(num1,num2)}\")\n",
        "        elif choice =='4':\n",
        "             print(f\"The result is{divide(num1,num2)}\")\n",
        "        next_calculation=input(\"Do you want to perform another calculation? (yes/no):\")\n",
        "        if next_calculation.lower()!=\"yes\":\n",
        "           break\n",
        "      else:\n",
        "          print(\"Invalid Input\")\n",
        "calculator()\n",
        "\n",
        "\n",
        "\n",
        "\n",
        ""
      ]
    },
    {
      "cell_type": "code",
      "source": [],
      "metadata": {
        "id": "wPLE8HOzYWmM"
      },
      "execution_count": 7,
      "outputs": []
    }
  ]
}